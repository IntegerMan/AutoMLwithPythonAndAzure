{
 "cells": [
  {
   "cell_type": "markdown",
   "metadata": {},
   "source": [
    "# Automating Machine Learning with Python and Azure\n",
    "By [Matt Eland](https://MattEland.dev) | [@IntegerMan](https://twitter.com/IntegerMan)"
   ]
  },
  {
   "cell_type": "markdown",
   "metadata": {},
   "source": [
    "## Who am I?\n",
    "\n",
    "After 20+ years of software engineering and engineering management I now teach professionally and do many things including: \n",
    "\n",
    "- Teaching Software Development @ [Tech Elevator](https://TechElevator.com) in Columbus, OH\n",
    "- Speaking at [Conference & User Groups](https://sessionize.com/matt-eland)\n",
    "- Pursuing a Master's Degree in [Data Analytics through Franklin University](https://www.franklin.edu/degrees/masters/data-analytics) _(Anticipated Graduation: Summer of 2024)_\n",
    "- Data Science experiments for fun!\n",
    "- Data Science blogging at [AccessibleAI.dev](https://accessibleai.dev)\n",
    "- Data Science YouTube content at [MattOnDataScience.com](https://MattOnDataScience.com)\n",
    "- Co-organizing the [Central Ohio .NET Developer Group](https://condg.org)\n",
    "\n",
    "I also have several additional qualifications that relate to this talk:\n",
    "\n",
    "- [Microsoft Certified: Azure Data Scientist Associate](https://www.credly.com/badges/53ace869-2160-4fcd-be00-271bc5ada4aa/public_url)\n",
    "- [Microsoft Certified: Azure AI Fundamentals](https://www.credly.com/badges/bf234824-94ff-4d28-8080-cf010ff5408e/public_url)\n",
    "- [IBM Data Scientist Professional Certificate](https://www.credly.com/earner/earned/badge/e2625f64-3fe5-4028-9db2-2a28dabf6405)\n",
    "- [Machine Learning Engineer with Microsoft Azure Nanodegree](https://confirm.udacity.com/DWWTFM2U)\n"
   ]
  },
  {
   "cell_type": "markdown",
   "metadata": {},
   "source": [
    "## What's this talk about?\n",
    "\n",
    "**Machine Learning in Azure using Python**. Seems kinda obvious.\n",
    "\n",
    "Some specific areas we'll cover:\n",
    "\n",
    "- What is Azure Machine Learning Studio?\n",
    "- What is the Azure ML SDK?\n",
    "- Why would I even want to use Azure for this?\n",
    "- What does Python code look like for working with Azure?\n",
    "\n",
    "For the bulk of this talk, we'll explore a **regression experiment** on hockey penalty prediction from data exploration to automated machine learning to model deployment and consumption.\n",
    "\n",
    "We'll also look briefly at a prior **classification experiment** on Die Hard to see the types of metrics available when looking at classification experiments."
   ]
  },
  {
   "cell_type": "markdown",
   "metadata": {},
   "source": [
    "## Touring Azure Machine Learning Studio\n",
    "\n",
    "Let's take a look at Azure Machine Learning Studio to see what the Azure ML SDK allows us to automate.\n",
    "\n",
    "![](screens/AutoMLModelPerformance.png)"
   ]
  },
  {
   "cell_type": "markdown",
   "metadata": {},
   "source": [
    "## What is the Azure ML SDK?\n",
    "\n",
    "A way of interacting with the Azure ML SDK from Python code.\n",
    "\n",
    "It allows you to largely bypass the Azure Portal and can integrate more easily into other workflows.\n",
    "\n",
    "To install the Azure ML SDK, you should follow [Microsoft's official documentation](https://docs.microsoft.com/en-us/python/api/overview/azure/ml/installv2?view=azure-ml-py) as the ML SDK continues to evolve."
   ]
  },
  {
   "cell_type": "markdown",
   "metadata": {},
   "source": [
    "## When would I use Azure ML?\n",
    "\n",
    "- When you don't know which algorithms to evaluate\n",
    "- When you want to avoid or defer learning curves around data science libraries\n",
    "- When you want easy access to advanced metrics, explanations, and visualizations\n",
    "- When you want to version your datasets and models in the cloud\n",
    "- When you want to be able to easily share the results of experiments \n",
    "- When you need extra computing power for ML paid at a usage level\n",
    "- When you want to deploy, monitor, and scale your trained models"
   ]
  }
 ],
 "metadata": {
  "interpreter": {
   "hash": "a4868653bb6f8972e87e4c446ab8a445a15b25dedb8594cc74c480f8152ea86a"
  },
  "kernelspec": {
   "display_name": "Python 3.8.8 64-bit",
   "language": "python",
   "name": "python3"
  },
  "language_info": {
   "codemirror_mode": {
    "name": "ipython",
    "version": 3
   },
   "file_extension": ".py",
   "mimetype": "text/x-python",
   "name": "python",
   "nbconvert_exporter": "python",
   "pygments_lexer": "ipython3",
   "version": "3.8.8"
  },
  "orig_nbformat": 4
 },
 "nbformat": 4,
 "nbformat_minor": 2
}
