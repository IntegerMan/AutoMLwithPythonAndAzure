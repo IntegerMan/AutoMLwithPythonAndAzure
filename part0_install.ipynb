{
 "cells": [
  {
   "cell_type": "markdown",
   "metadata": {},
   "source": [
    "# Installs\n",
    "\n",
    "The following installs are recommended on top of Python 3.8.8 or higher. Anaconda Individual Edition currently does not appear to work with Azure ML."
   ]
  },
  {
   "cell_type": "code",
   "execution_count": 2,
   "metadata": {},
   "outputs": [
    {
     "name": "stdout",
     "output_type": "stream",
     "text": [
      "Requirement already satisfied: azureml.core in c:\\users\\admin\\appdata\\local\\programs\\python\\python38\\lib\\site-packages (1.40.0)\n",
      "Requirement already satisfied: packaging<22.0,>=20.0 in c:\\users\\admin\\appdata\\local\\programs\\python\\python38\\lib\\site-packages (from azureml.core) (21.3)\n",
      "Requirement already satisfied: azure-graphrbac<1.0.0,>=0.40.0 in c:\\users\\admin\\appdata\\local\\programs\\python\\python38\\lib\\site-packages (from azureml.core) (0.61.1)\n",
      "Requirement already satisfied: azure-core<1.22 in c:\\users\\admin\\appdata\\local\\programs\\python\\python38\\lib\\site-packages (from azureml.core) (1.21.1)\n",
      "Requirement already satisfied: knack~=0.9.0 in c:\\users\\admin\\appdata\\local\\programs\\python\\python38\\lib\\site-packages (from azureml.core) (0.9.0)\n",
      "Requirement already satisfied: pkginfo in c:\\users\\admin\\appdata\\local\\programs\\python\\python38\\lib\\site-packages (from azureml.core) (1.8.2)\n",
      "Requirement already satisfied: azure-mgmt-storage<20.0.0,>=16.0.0 in c:\\users\\admin\\appdata\\local\\programs\\python\\python38\\lib\\site-packages (from azureml.core) (19.1.0)\n",
      "Requirement already satisfied: msrest<1.0.0,>=0.5.1 in c:\\users\\admin\\appdata\\local\\programs\\python\\python38\\lib\\site-packages (from azureml.core) (0.6.21)\n",
      "Requirement already satisfied: adal<=1.2.7,>=1.2.0 in c:\\users\\admin\\appdata\\local\\programs\\python\\python38\\lib\\site-packages (from azureml.core) (1.2.7)\n",
      "Requirement already satisfied: cryptography!=1.9,!=2.0.*,!=2.1.*,!=2.2.*,<37.0.0 in c:\\users\\admin\\appdata\\local\\programs\\python\\python38\\lib\\site-packages (from azureml.core) (36.0.2)\n",
      "Requirement already satisfied: azure-common<2.0.0,>=1.1.12 in c:\\users\\admin\\appdata\\local\\programs\\python\\python38\\lib\\site-packages (from azureml.core) (1.1.28)\n",
      "Requirement already satisfied: azure-mgmt-keyvault<10.0.0,>=0.40.0 in c:\\users\\admin\\appdata\\local\\programs\\python\\python38\\lib\\site-packages (from azureml.core) (9.3.0)\n",
      "Requirement already satisfied: jmespath<1.0.0 in c:\\users\\admin\\appdata\\local\\programs\\python\\python38\\lib\\site-packages (from azureml.core) (0.10.0)\n",
      "Requirement already satisfied: msal<2.0.0,>=1.15.0 in c:\\users\\admin\\appdata\\local\\programs\\python\\python38\\lib\\site-packages (from azureml.core) (1.17.0)\n",
      "Requirement already satisfied: azure-mgmt-containerregistry<9.0.0,>=8.2.0 in c:\\users\\admin\\appdata\\local\\programs\\python\\python38\\lib\\site-packages (from azureml.core) (8.2.0)\n",
      "Requirement already satisfied: contextlib2<22.0.0 in c:\\users\\admin\\appdata\\local\\programs\\python\\python38\\lib\\site-packages (from azureml.core) (21.6.0)\n",
      "Requirement already satisfied: azure-mgmt-authorization<1.0.0,>=0.40.0 in c:\\users\\admin\\appdata\\local\\programs\\python\\python38\\lib\\site-packages (from azureml.core) (0.61.0)\n",
      "Requirement already satisfied: msrestazure<=0.6.4,>=0.4.33 in c:\\users\\admin\\appdata\\local\\programs\\python\\python38\\lib\\site-packages (from azureml.core) (0.6.4)\n",
      "Requirement already satisfied: docker<6.0.0 in c:\\users\\admin\\appdata\\local\\programs\\python\\python38\\lib\\site-packages (from azureml.core) (5.0.3)\n",
      "Requirement already satisfied: msal-extensions<0.4,>=0.3.0 in c:\\users\\admin\\appdata\\local\\programs\\python\\python38\\lib\\site-packages (from azureml.core) (0.3.1)\n",
      "Requirement already satisfied: requests[socks]<3.0.0,>=2.19.1 in c:\\users\\admin\\appdata\\local\\programs\\python\\python38\\lib\\site-packages (from azureml.core) (2.27.1)\n",
      "Requirement already satisfied: humanfriendly<11.0,>=4.7 in c:\\users\\admin\\appdata\\local\\programs\\python\\python38\\lib\\site-packages (from azureml.core) (10.0)\n",
      "Requirement already satisfied: python-dateutil<3.0.0,>=2.7.3 in c:\\users\\admin\\appdata\\local\\programs\\python\\python38\\lib\\site-packages (from azureml.core) (2.8.2)\n",
      "Requirement already satisfied: pytz in c:\\users\\admin\\appdata\\local\\programs\\python\\python38\\lib\\site-packages (from azureml.core) (2022.1)\n",
      "Requirement already satisfied: argcomplete<2.0 in c:\\users\\admin\\appdata\\local\\programs\\python\\python38\\lib\\site-packages (from azureml.core) (1.12.3)\n",
      "Requirement already satisfied: azure-mgmt-resource<21.0.0,>=15.0.0 in c:\\users\\admin\\appdata\\local\\programs\\python\\python38\\lib\\site-packages (from azureml.core) (20.1.0)\n",
      "Requirement already satisfied: pathspec<1.0.0 in c:\\users\\admin\\appdata\\local\\programs\\python\\python38\\lib\\site-packages (from azureml.core) (0.9.0)\n",
      "Requirement already satisfied: jsonpickle<3.0.0 in c:\\users\\admin\\appdata\\local\\programs\\python\\python38\\lib\\site-packages (from azureml.core) (2.1.0)\n",
      "Requirement already satisfied: SecretStorage<4.0.0 in c:\\users\\admin\\appdata\\local\\programs\\python\\python38\\lib\\site-packages (from azureml.core) (3.3.1)\n",
      "Requirement already satisfied: paramiko<3.0.0,>=2.0.8 in c:\\users\\admin\\appdata\\local\\programs\\python\\python38\\lib\\site-packages (from azureml.core) (2.10.3)\n",
      "Requirement already satisfied: urllib3<=1.26.7,>=1.23 in c:\\users\\admin\\appdata\\local\\programs\\python\\python38\\lib\\site-packages (from azureml.core) (1.26.7)\n",
      "Requirement already satisfied: PyJWT<3.0.0 in c:\\users\\admin\\appdata\\local\\programs\\python\\python38\\lib\\site-packages (from azureml.core) (2.3.0)\n",
      "Requirement already satisfied: pyopenssl<22.0.0 in c:\\users\\admin\\appdata\\local\\programs\\python\\python38\\lib\\site-packages (from azureml.core) (21.0.0)\n",
      "Requirement already satisfied: backports.tempfile in c:\\users\\admin\\appdata\\local\\programs\\python\\python38\\lib\\site-packages (from azureml.core) (1.0)\n",
      "Requirement already satisfied: ndg-httpsclient<=0.5.1 in c:\\users\\admin\\appdata\\local\\programs\\python\\python38\\lib\\site-packages (from azureml.core) (0.5.1)\n",
      "Requirement already satisfied: pyparsing!=3.0.5,>=2.0.2 in c:\\users\\admin\\appdata\\local\\programs\\python\\python38\\lib\\site-packages (from packaging<22.0,>=20.0->azureml.core) (3.0.8)\n",
      "Requirement already satisfied: six>=1.11.0 in c:\\users\\admin\\appdata\\local\\programs\\python\\python38\\lib\\site-packages (from azure-core<1.22->azureml.core) (1.16.0)\n",
      "Requirement already satisfied: tabulate in c:\\users\\admin\\appdata\\local\\programs\\python\\python38\\lib\\site-packages (from knack~=0.9.0->azureml.core) (0.8.9)\n",
      "Requirement already satisfied: pygments in c:\\users\\admin\\appdata\\local\\programs\\python\\python38\\lib\\site-packages (from knack~=0.9.0->azureml.core) (2.11.2)\n",
      "Requirement already satisfied: pyyaml in c:\\users\\admin\\appdata\\local\\programs\\python\\python38\\lib\\site-packages (from knack~=0.9.0->azureml.core) (6.0)\n",
      "Requirement already satisfied: azure-mgmt-core<2.0.0,>=1.3.0 in c:\\users\\admin\\appdata\\local\\programs\\python\\python38\\lib\\site-packages (from azure-mgmt-storage<20.0.0,>=16.0.0->azureml.core) (1.3.0)\n",
      "Requirement already satisfied: isodate>=0.6.0 in c:\\users\\admin\\appdata\\local\\programs\\python\\python38\\lib\\site-packages (from msrest<1.0.0,>=0.5.1->azureml.core) (0.6.1)\n",
      "Requirement already satisfied: requests-oauthlib>=0.5.0 in c:\\users\\admin\\appdata\\local\\programs\\python\\python38\\lib\\site-packages (from msrest<1.0.0,>=0.5.1->azureml.core) (1.3.1)\n",
      "Requirement already satisfied: certifi>=2017.4.17 in c:\\users\\admin\\appdata\\local\\programs\\python\\python38\\lib\\site-packages (from msrest<1.0.0,>=0.5.1->azureml.core) (2021.10.8)\n",
      "Requirement already satisfied: cffi>=1.12 in c:\\users\\admin\\appdata\\local\\programs\\python\\python38\\lib\\site-packages (from cryptography!=1.9,!=2.0.*,!=2.1.*,!=2.2.*,<37.0.0->azureml.core) (1.15.0)\n",
      "Requirement already satisfied: pywin32==227; sys_platform == \"win32\" in c:\\users\\admin\\appdata\\local\\programs\\python\\python38\\lib\\site-packages (from docker<6.0.0->azureml.core) (227)\n",
      "Requirement already satisfied: websocket-client>=0.32.0 in c:\\users\\admin\\appdata\\local\\programs\\python\\python38\\lib\\site-packages (from docker<6.0.0->azureml.core) (1.3.2)\n",
      "Requirement already satisfied: portalocker<3,>=1.6; python_version >= \"3.5\" and platform_system == \"Windows\" in c:\\users\\admin\\appdata\\local\\programs\\python\\python38\\lib\\site-packages (from msal-extensions<0.4,>=0.3.0->azureml.core) (2.4.0)\n",
      "Requirement already satisfied: idna<4,>=2.5; python_version >= \"3\" in c:\\users\\admin\\appdata\\local\\programs\\python\\python38\\lib\\site-packages (from requests[socks]<3.0.0,>=2.19.1->azureml.core) (3.3)\n",
      "Requirement already satisfied: charset-normalizer~=2.0.0; python_version >= \"3\" in c:\\users\\admin\\appdata\\local\\programs\\python\\python38\\lib\\site-packages (from requests[socks]<3.0.0,>=2.19.1->azureml.core) (2.0.12)\n",
      "Requirement already satisfied: PySocks!=1.5.7,>=1.5.6; extra == \"socks\" in c:\\users\\admin\\appdata\\local\\programs\\python\\python38\\lib\\site-packages (from requests[socks]<3.0.0,>=2.19.1->azureml.core) (1.7.1)\n",
      "Requirement already satisfied: pyreadline3; sys_platform == \"win32\" and python_version >= \"3.8\" in c:\\users\\admin\\appdata\\local\\programs\\python\\python38\\lib\\site-packages (from humanfriendly<11.0,>=4.7->azureml.core) (3.4.1)\n",
      "Requirement already satisfied: jeepney>=0.6 in c:\\users\\admin\\appdata\\local\\programs\\python\\python38\\lib\\site-packages (from SecretStorage<4.0.0->azureml.core) (0.8.0)\n",
      "Requirement already satisfied: pynacl>=1.0.1 in c:\\users\\admin\\appdata\\local\\programs\\python\\python38\\lib\\site-packages (from paramiko<3.0.0,>=2.0.8->azureml.core) (1.5.0)\n",
      "Requirement already satisfied: bcrypt>=3.1.3 in c:\\users\\admin\\appdata\\local\\programs\\python\\python38\\lib\\site-packages (from paramiko<3.0.0,>=2.0.8->azureml.core) (3.2.0)\n",
      "Requirement already satisfied: backports.weakref in c:\\users\\admin\\appdata\\local\\programs\\python\\python38\\lib\\site-packages (from backports.tempfile->azureml.core) (1.0.post1)\n",
      "Requirement already satisfied: pyasn1>=0.1.1 in c:\\users\\admin\\appdata\\local\\programs\\python\\python38\\lib\\site-packages (from ndg-httpsclient<=0.5.1->azureml.core) (0.4.8)\n",
      "Requirement already satisfied: oauthlib>=3.0.0 in c:\\users\\admin\\appdata\\local\\programs\\python\\python38\\lib\\site-packages (from requests-oauthlib>=0.5.0->msrest<1.0.0,>=0.5.1->azureml.core) (3.2.0)\n",
      "Requirement already satisfied: pycparser in c:\\users\\admin\\appdata\\local\\programs\\python\\python38\\lib\\site-packages (from cffi>=1.12->cryptography!=1.9,!=2.0.*,!=2.1.*,!=2.2.*,<37.0.0->azureml.core) (2.21)\n",
      "Note: you may need to restart the kernel to use updated packages.\n"
     ]
    },
    {
     "name": "stderr",
     "output_type": "stream",
     "text": [
      "WARNING: You are using pip version 20.2.3; however, version 22.1.2 is available.\n",
      "You should consider upgrading via the 'c:\\Users\\Admin\\AppData\\Local\\Programs\\Python\\Python38\\python.exe -m pip install --upgrade pip' command.\n"
     ]
    },
    {
     "name": "stdout",
     "output_type": "stream",
     "text": [
      "Requirement already satisfied: plotly in c:\\users\\admin\\appdata\\local\\programs\\python\\python38\\lib\\site-packages (5.7.0)\n",
      "Requirement already satisfied: six in c:\\users\\admin\\appdata\\local\\programs\\python\\python38\\lib\\site-packages (from plotly) (1.16.0)\n",
      "Requirement already satisfied: tenacity>=6.2.0 in c:\\users\\admin\\appdata\\local\\programs\\python\\python38\\lib\\site-packages (from plotly) (8.0.1)\n",
      "Note: you may need to restart the kernel to use updated packages.\n"
     ]
    },
    {
     "name": "stderr",
     "output_type": "stream",
     "text": [
      "WARNING: You are using pip version 20.2.3; however, version 22.1.2 is available.\n",
      "You should consider upgrading via the 'c:\\Users\\Admin\\AppData\\Local\\Programs\\Python\\Python38\\python.exe -m pip install --upgrade pip' command.\n"
     ]
    }
   ],
   "source": [
    "%pip install azureml.core # NOTE: This seems to still have some issues on Anaconda individual Edition\n",
    "%pip install plotly"
   ]
  }
 ],
 "metadata": {
  "interpreter": {
   "hash": "a4868653bb6f8972e87e4c446ab8a445a15b25dedb8594cc74c480f8152ea86a"
  },
  "kernelspec": {
   "display_name": "Python 3.8.8 64-bit",
   "language": "python",
   "name": "python3"
  },
  "language_info": {
   "codemirror_mode": {
    "name": "ipython",
    "version": 3
   },
   "file_extension": ".py",
   "mimetype": "text/x-python",
   "name": "python",
   "nbconvert_exporter": "python",
   "pygments_lexer": "ipython3",
   "version": "3.8.8"
  },
  "orig_nbformat": 4
 },
 "nbformat": 4,
 "nbformat_minor": 2
}
