{
 "cells": [
  {
   "cell_type": "markdown",
   "metadata": {},
   "source": [
    "## Trying this Yourself\n",
    "\n",
    "### Installing the Azure ML SDK\n",
    "\n",
    "To install the Azure ML SDK, you should follow [Microsoft's official documentation](https://docs.microsoft.com/en-us/python/api/overview/azure/ml/installv2?view=azure-ml-py) as the ML SDK continues to evolve."
   ]
  },
  {
   "cell_type": "code",
   "execution_count": null,
   "metadata": {},
   "outputs": [],
   "source": [
    "# The following PIP Install commands for Jupyter notebook may also help\n",
    "%pip install azure-ai-ml\n",
    "%pip install azureml.core\n",
    "\n",
    "%pip install pandas         # Used for loading dataframes\n",
    "%pip install plotly         # Used for data visualization"
   ]
  },
  {
   "cell_type": "markdown",
   "metadata": {},
   "source": [
    "### Sign up for a Free Azure Account\n",
    "\n",
    "Visit [https://azure.microsoft.com/en-us/free/](https://azure.microsoft.com/en-us/free/) and get:\n",
    "\n",
    "- $200 Azure credit for the first 30 days\n",
    "- Many free services for a year\n",
    "- Other services paid per use or paid over the free monthly amount\n",
    "- Other services perpetually free"
   ]
  },
  {
   "cell_type": "markdown",
   "metadata": {},
   "source": [
    "## Learning More\n",
    "\n",
    "### My Content\n",
    "\n",
    "- [AccessibleAI.dev](https://AccessibleAI.dev) - Data Science Blog\n",
    "- [MattOnDataScience.com](https://MattOnDataScience.com) - Data Science YouTube content\n",
    "- [@IntegerMan](https://twitter.com/integerman) - My Twitter profile\n",
    "\n",
    "### Microsoft's Content\n",
    "\n",
    "- [Azure AI Fundamentals](https://docs.microsoft.com/en-us/learn/certifications/azure-ai-fundamentals/) - fundamentals certification exam and free MS Learn learning resources\n",
    "- [Azure Data Scientist](https://docs.microsoft.com/en-us/learn/certifications/azure-data-scientist/) - associate certification exam with more advanced learning resources"
   ]
  }
 ],
 "metadata": {
  "language_info": {
   "name": "python"
  },
  "orig_nbformat": 4
 },
 "nbformat": 4,
 "nbformat_minor": 2
}
