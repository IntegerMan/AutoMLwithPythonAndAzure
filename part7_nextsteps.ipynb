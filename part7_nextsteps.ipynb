{
 "cells": [
  {
   "cell_type": "markdown",
   "metadata": {},
   "source": [
    "## Other Topics\n",
    "\n",
    "### Hyperdrive\n",
    "Hyperdrive lets you automatically tune hyperparameters for a script to maximize or minimize a target metric.\n",
    "![Hyperdrive Code](screens/HyperdriveCode.png)\n",
    "\n",
    "A Hyperdrive run is like AutoML, but targeted at a specific piece of code you provide and seeks to find the best combination of hyperparameters.\n",
    "![Hyperdrive Run](screens/HyperdriveRun.png)\n",
    "\n",
    "### Azure Cognitive Services\n",
    "\n",
    "Azure Cognitive Services lets you work with pay-per-use APIs that expose pre-trained customizable image, text, and speech machine learning algorithms.\n",
    "\n",
    "![Azure Cognitive Services](screens/AzureCognitiveServices.png)\n",
    "\n",
    "### Azure Synapse Analytics\n",
    "\n",
    "Azure Synapse Analytics is a data ingestion and transformation solution that lets you automate feeding pre-processed data into the model training or prediction generation processes for Azure Machine Learning Studio.\n",
    "\n",
    "![Azure Synapse Analytics](screens/AzureSynapse.png)"
   ]
  },
  {
   "cell_type": "markdown",
   "metadata": {},
   "source": [
    "## Trying this Yourself\n",
    "\n",
    "### Installing the Azure ML SDK\n",
    "\n",
    "To install the Azure ML SDK, you should follow [Microsoft's official documentation](https://docs.microsoft.com/en-us/python/api/overview/azure/ml/installv2?view=azure-ml-py) as the ML SDK continues to evolve."
   ]
  },
  {
   "cell_type": "code",
   "execution_count": null,
   "metadata": {},
   "outputs": [],
   "source": [
    "# The following PIP Install commands for Jupyter notebook may also help\n",
    "%pip install azure-ai-ml\n",
    "%pip install azureml.core\n",
    "\n",
    "%pip install pandas         # Used for loading dataframes\n",
    "%pip install plotly         # Used for data visualization"
   ]
  },
  {
   "cell_type": "markdown",
   "metadata": {},
   "source": [
    "### View this Code\n",
    "\n",
    "This is a public GitHub repository, so you can find the code and tailor it to your own experiments on your own Azure accounts.\n",
    "\n",
    "Visit [https://github.com/IntegerMan/AutoMLwithPythonAndAzure](https://github.com/IntegerMan/AutoMLwithPythonAndAzure) for the full source code."
   ]
  },
  {
   "cell_type": "markdown",
   "metadata": {},
   "source": [
    "### Sign up for a Free Azure Account\n",
    "\n",
    "Visit [https://azure.microsoft.com/en-us/free/](https://azure.microsoft.com/en-us/free/) and get:\n",
    "\n",
    "- $200 Azure credit for the first 30 days\n",
    "- Many free services for a year\n",
    "- Other services paid per use or paid over the free monthly amount\n",
    "- Other services perpetually free"
   ]
  },
  {
   "cell_type": "markdown",
   "metadata": {},
   "source": [
    "### Kaggle.com\n",
    "\n",
    "[Kaggle](https://kaggle.com/datasets) is a very good way of getting free data sources for data science experiments.\n",
    "\n",
    "![Kaggle](screens/Kaggle.png)"
   ]
  },
  {
   "cell_type": "markdown",
   "metadata": {},
   "source": [
    "## Learning More\n",
    "\n",
    "![MattEland.dev](screens/MattElandDev.png)\n",
    "\n",
    "### My Content\n",
    "\n",
    "- [AccessibleAI.dev](https://AccessibleAI.dev) - Data Science Blog\n",
    "- [MattOnDataScience.com](https://MattOnDataScience.com) - Data Science YouTube content\n",
    "- [@IntegerMan](https://twitter.com/integerman) - My Twitter profile\n",
    "\n",
    "### Microsoft's Content\n",
    "\n",
    "- [Azure AI Fundamentals](https://docs.microsoft.com/en-us/learn/certifications/azure-ai-fundamentals/) - fundamentals certification exam and free MS Learn learning resources\n",
    "- [Azure Data Scientist](https://docs.microsoft.com/en-us/learn/certifications/azure-data-scientist/) - associate certification exam with more advanced learning resources"
   ]
  }
 ],
 "metadata": {
  "language_info": {
   "name": "python"
  },
  "orig_nbformat": 4
 },
 "nbformat": 4,
 "nbformat_minor": 2
}
