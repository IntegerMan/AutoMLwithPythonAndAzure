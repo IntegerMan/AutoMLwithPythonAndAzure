{
 "cells": [
  {
   "cell_type": "markdown",
   "metadata": {},
   "source": [
    "## "
   ]
  },
  {
   "cell_type": "code",
   "execution_count": 3,
   "metadata": {},
   "outputs": [
    {
     "data": {
      "text/plain": [
       "'DataScience'"
      ]
     },
     "execution_count": 3,
     "metadata": {},
     "output_type": "execute_result"
    }
   ],
   "source": [
    "# Load the workspace information from config.json using the Azure ML SDK\n",
    "from azureml.core import Workspace\n",
    "\n",
    "ws = Workspace.from_config()\n",
    "ws.name"
   ]
  },
  {
   "cell_type": "code",
   "execution_count": 4,
   "metadata": {},
   "outputs": [
    {
     "name": "stdout",
     "output_type": "stream",
     "text": [
      "NHL-Penalties-2020 v6: A breakdown of penalty minutes per game matchup\n"
     ]
    },
    {
     "data": {
      "text/html": [
       "<div>\n",
       "<style scoped>\n",
       "    .dataframe tbody tr th:only-of-type {\n",
       "        vertical-align: middle;\n",
       "    }\n",
       "\n",
       "    .dataframe tbody tr th {\n",
       "        vertical-align: top;\n",
       "    }\n",
       "\n",
       "    .dataframe thead th {\n",
       "        text-align: right;\n",
       "    }\n",
       "</style>\n",
       "<table border=\"1\" class=\"dataframe\">\n",
       "  <thead>\n",
       "    <tr style=\"text-align: right;\">\n",
       "      <th></th>\n",
       "      <th>penaltyMinutes</th>\n",
       "      <th>type</th>\n",
       "      <th>homeTeam</th>\n",
       "      <th>awayTeam</th>\n",
       "    </tr>\n",
       "  </thead>\n",
       "  <tbody>\n",
       "    <tr>\n",
       "      <th>0</th>\n",
       "      <td>12.0</td>\n",
       "      <td>R</td>\n",
       "      <td>Maple Leafs</td>\n",
       "      <td>Canadiens</td>\n",
       "    </tr>\n",
       "    <tr>\n",
       "      <th>1</th>\n",
       "      <td>12.0</td>\n",
       "      <td>R</td>\n",
       "      <td>Maple Leafs</td>\n",
       "      <td>Canadiens</td>\n",
       "    </tr>\n",
       "    <tr>\n",
       "      <th>2</th>\n",
       "      <td>76.0</td>\n",
       "      <td>R</td>\n",
       "      <td>Maple Leafs</td>\n",
       "      <td>Canadiens</td>\n",
       "    </tr>\n",
       "    <tr>\n",
       "      <th>3</th>\n",
       "      <td>12.0</td>\n",
       "      <td>R</td>\n",
       "      <td>Maple Leafs</td>\n",
       "      <td>Canadiens</td>\n",
       "    </tr>\n",
       "    <tr>\n",
       "      <th>4</th>\n",
       "      <td>10.0</td>\n",
       "      <td>R</td>\n",
       "      <td>Maple Leafs</td>\n",
       "      <td>Canadiens</td>\n",
       "    </tr>\n",
       "  </tbody>\n",
       "</table>\n",
       "</div>"
      ],
      "text/plain": [
       "   penaltyMinutes type     homeTeam   awayTeam\n",
       "0            12.0    R  Maple Leafs  Canadiens\n",
       "1            12.0    R  Maple Leafs  Canadiens\n",
       "2            76.0    R  Maple Leafs  Canadiens\n",
       "3            12.0    R  Maple Leafs  Canadiens\n",
       "4            10.0    R  Maple Leafs  Canadiens"
      ]
     },
     "execution_count": 4,
     "metadata": {},
     "output_type": "execute_result"
    }
   ],
   "source": [
    "# Next, grab our dataset from Azure. \n",
    "from azureml.core import Dataset\n",
    "\n",
    "ds = Dataset.get_by_name(workspace=ws, name='NHL-Penalties-2020') # This is the version we registered in the last notebook\n",
    "print(ds.name + ' v' + str(ds.version) + ': ' + ds.description)\n",
    "\n",
    "# Display the data structure here for verification\n",
    "ds.to_pandas_dataframe().head()"
   ]
  },
  {
   "cell_type": "code",
   "execution_count": 5,
   "metadata": {},
   "outputs": [
    {
     "name": "stdout",
     "output_type": "stream",
     "text": [
      "Using existing compute: Low-End-Compute-Cluster\n",
      "Succeeded\n",
      "AmlCompute wait for completion finished\n",
      "\n",
      "Minimum number of nodes requested have been provisioned\n"
     ]
    }
   ],
   "source": [
    "from azureml.core.compute import ComputeTarget, AmlCompute\n",
    "from azureml.core.compute_target import ComputeTargetException\n",
    "\n",
    "# Now let's make sure we have a compute resource created\n",
    "cluster_name = \"Low-End-Compute-Cluster\"\n",
    "max_nodes = 4\n",
    "\n",
    "# Fetch or create the compute resource\n",
    "try:\n",
    "    cpu_cluster = ComputeTarget(workspace=ws, name=cluster_name) # This will throw a ComputeTargetException if this doesn't exist\n",
    "    print('Using existing compute: ' + cluster_name)\n",
    "except ComputeTargetException:\n",
    "    # Create the cluster\n",
    "    print('Provisioning cluster...')\n",
    "    compute_config = AmlCompute.provisioning_configuration(vm_size=\"Standard_D2DS_V4\", min_nodes=0, max_nodes=max_nodes)\n",
    "    cpu_cluster = ComputeTarget.create(ws, cluster_name, compute_config)\n",
    "\n",
    "# Ensure the cluster is ready to go\n",
    "cpu_cluster.wait_for_completion(show_output=True)"
   ]
  },
  {
   "cell_type": "code",
   "execution_count": 7,
   "metadata": {},
   "outputs": [],
   "source": [
    "# Create the configuration for the experiment\n",
    "from azureml.train.automl import AutoMLConfig\n",
    "\n",
    "automl_config = AutoMLConfig(\n",
    "        task='regression',                                  # regression, classification, or forecasting\n",
    "        training_data=ds,                                   # The data to use to train the model\n",
    "        label_column_name='penaltyMinutes',                 # The column we're trying to predict\n",
    "        n_cross_validations=3,                              # How many cross-validation sets to use\n",
    "        primary_metric='normalized_mean_absolute_error',    # The metric we use to compare model performance\n",
    "        compute_target=cpu_cluster,                         # Where the experiment should be run\n",
    "        max_concurrent_iterations=max_nodes,                # How many models can be trained simultaneously\n",
    "        iterations=5,                                      # The total number of models to train\n",
    "        iteration_timeout_minutes=5                         # The amount of time before giving up on a single model training run\n",
    "    )            "
   ]
  },
  {
   "cell_type": "code",
   "execution_count": 9,
   "metadata": {},
   "outputs": [
    {
     "name": "stdout",
     "output_type": "stream",
     "text": [
      "Submitting remote run.\n"
     ]
    },
    {
     "data": {
      "text/html": [
       "<table style=\"width:100%\"><tr><th>Experiment</th><th>Id</th><th>Type</th><th>Status</th><th>Details Page</th><th>Docs Page</th></tr><tr><td>NHL-Penalty-Minute-Prediction</td><td>AutoML_4fdc25b3-3114-42ab-af1f-b3bff868bf4e</td><td>automl</td><td>NotStarted</td><td><a href=\"https://ml.azure.com/runs/AutoML_4fdc25b3-3114-42ab-af1f-b3bff868bf4e?wsid=/subscriptions/efba8785-116c-4443-9a05-764c75c7bb0d/resourcegroups/datascience/workspaces/DataScience&amp;tid=542fe8ad-7ac8-4b9e-898f-d6de53312581\" target=\"_blank\" rel=\"noopener\">Link to Azure Machine Learning studio</a></td><td><a href=\"https://docs.microsoft.com/en-us/python/api/overview/azure/ml/intro?view=azure-ml-py\" target=\"_blank\" rel=\"noopener\">Link to Documentation</a></td></tr></table>"
      ],
      "text/plain": [
       "<IPython.core.display.HTML object>"
      ]
     },
     "metadata": {},
     "output_type": "display_data"
    },
    {
     "data": {
      "application/vnd.jupyter.widget-view+json": {
       "model_id": "34823d36f39d4f2eafac24b3378aa728",
       "version_major": 2,
       "version_minor": 0
      },
      "text/plain": [
       "_AutoMLWidget(widget_settings={'childWidgetDisplay': 'popup', 'send_telemetry': False, 'log_level': 'INFO', 's…"
      ]
     },
     "metadata": {},
     "output_type": "display_data"
    },
    {
     "data": {
      "application/aml.mini.widget.v1": "{\"status\": \"Running\", \"workbench_run_details_uri\": \"https://ml.azure.com/runs/AutoML_4fdc25b3-3114-42ab-af1f-b3bff868bf4e?wsid=/subscriptions/efba8785-116c-4443-9a05-764c75c7bb0d/resourcegroups/datascience/workspaces/DataScience&tid=542fe8ad-7ac8-4b9e-898f-d6de53312581\", \"run_id\": \"AutoML_4fdc25b3-3114-42ab-af1f-b3bff868bf4e\", \"run_properties\": {\"run_id\": \"AutoML_4fdc25b3-3114-42ab-af1f-b3bff868bf4e\", \"created_utc\": \"2022-06-17T03:14:19.054269Z\", \"properties\": {\"num_iterations\": \"5\", \"training_type\": \"TrainFull\", \"acquisition_function\": \"EI\", \"primary_metric\": \"normalized_mean_absolute_error\", \"train_split\": \"0\", \"acquisition_parameter\": \"0\", \"num_cross_validation\": \"3\", \"target\": \"Low-End-Compute-Cluster\", \"AMLSettingsJsonString\": \"{\\\"path\\\":null,\\\"name\\\":\\\"NHL-Penalty-Minute-Prediction\\\",\\\"subscription_id\\\":\\\"efba8785-116c-4443-9a05-764c75c7bb0d\\\",\\\"resource_group\\\":\\\"datascience\\\",\\\"workspace_name\\\":\\\"DataScience\\\",\\\"region\\\":\\\"northcentralus\\\",\\\"compute_target\\\":\\\"Low-End-Compute-Cluster\\\",\\\"spark_service\\\":null,\\\"azure_service\\\":\\\"remote\\\",\\\"many_models\\\":false,\\\"pipeline_fetch_max_batch_size\\\":1,\\\"enable_batch_run\\\":true,\\\"enable_run_restructure\\\":false,\\\"start_auxiliary_runs_before_parent_complete\\\":false,\\\"enable_code_generation\\\":false,\\\"iterations\\\":5,\\\"primary_metric\\\":\\\"normalized_mean_absolute_error\\\",\\\"task_type\\\":\\\"regression\\\",\\\"positive_label\\\":null,\\\"data_script\\\":null,\\\"test_size\\\":0.0,\\\"test_include_predictions_only\\\":false,\\\"validation_size\\\":0.0,\\\"n_cross_validations\\\":3,\\\"y_min\\\":null,\\\"y_max\\\":null,\\\"num_classes\\\":null,\\\"featurization\\\":\\\"auto\\\",\\\"_ignore_package_version_incompatibilities\\\":false,\\\"is_timeseries\\\":false,\\\"max_cores_per_iteration\\\":1,\\\"max_concurrent_iterations\\\":4,\\\"iteration_timeout_minutes\\\":5,\\\"mem_in_mb\\\":null,\\\"enforce_time_on_windows\\\":true,\\\"experiment_timeout_minutes\\\":8640,\\\"experiment_exit_score\\\":null,\\\"partition_column_names\\\":null,\\\"whitelist_models\\\":null,\\\"blacklist_algos\\\":[\\\"TensorFlowDNN\\\",\\\"TensorFlowLinearRegressor\\\"],\\\"supported_models\\\":[\\\"XGBoostRegressor\\\",\\\"KNN\\\",\\\"TensorFlowDNN\\\",\\\"ExtremeRandomTrees\\\",\\\"RandomForest\\\",\\\"SGD\\\",\\\"LightGBM\\\",\\\"FastLinearRegressor\\\",\\\"LassoLars\\\",\\\"DecisionTree\\\",\\\"TensorFlowLinearRegressor\\\",\\\"ElasticNet\\\",\\\"OnlineGradientDescentRegressor\\\",\\\"TabnetRegressor\\\",\\\"GradientBoosting\\\"],\\\"private_models\\\":[],\\\"auto_blacklist\\\":true,\\\"blacklist_samples_reached\\\":false,\\\"exclude_nan_labels\\\":true,\\\"verbosity\\\":20,\\\"_debug_log\\\":\\\"azureml_automl.log\\\",\\\"show_warnings\\\":false,\\\"model_explainability\\\":true,\\\"service_url\\\":null,\\\"sdk_url\\\":null,\\\"sdk_packages\\\":null,\\\"enable_onnx_compatible_models\\\":false,\\\"enable_split_onnx_featurizer_estimator_models\\\":false,\\\"vm_type\\\":\\\"STANDARD_D2DS_V4\\\",\\\"telemetry_verbosity\\\":20,\\\"send_telemetry\\\":true,\\\"enable_dnn\\\":false,\\\"scenario\\\":\\\"SDK-1.13.0\\\",\\\"environment_label\\\":null,\\\"save_mlflow\\\":false,\\\"enable_categorical_indicators\\\":false,\\\"force_text_dnn\\\":false,\\\"enable_feature_sweeping\\\":true,\\\"enable_early_stopping\\\":true,\\\"early_stopping_n_iters\\\":10,\\\"arguments\\\":null,\\\"dataset_id\\\":\\\"69058fd8-167e-4e66-9aa8-733590aa2e4c\\\",\\\"hyperdrive_config\\\":null,\\\"validation_dataset_id\\\":null,\\\"run_source\\\":null,\\\"metrics\\\":null,\\\"enable_metric_confidence\\\":false,\\\"enable_ensembling\\\":true,\\\"enable_stack_ensembling\\\":true,\\\"ensemble_iterations\\\":5,\\\"enable_tf\\\":false,\\\"enable_subsampling\\\":false,\\\"subsample_seed\\\":null,\\\"enable_nimbusml\\\":false,\\\"enable_streaming\\\":false,\\\"force_streaming\\\":false,\\\"track_child_runs\\\":true,\\\"allowed_private_models\\\":[],\\\"label_column_name\\\":\\\"penaltyMinutes\\\",\\\"weight_column_name\\\":null,\\\"cv_split_column_names\\\":null,\\\"enable_local_managed\\\":false,\\\"_local_managed_run_id\\\":null,\\\"cost_mode\\\":1,\\\"lag_length\\\":0,\\\"metric_operation\\\":\\\"minimize\\\",\\\"preprocess\\\":true}\", \"DataPrepJsonString\": \"{\\\\\\\"training_data\\\\\\\": {\\\\\\\"datasetId\\\\\\\": \\\\\\\"69058fd8-167e-4e66-9aa8-733590aa2e4c\\\\\\\"}, \\\\\\\"datasets\\\\\\\": 0}\", \"EnableSubsampling\": \"False\", \"runTemplate\": \"AutoML\", \"azureml.runsource\": \"automl\", \"display_task_type\": \"regression\", \"dependencies_versions\": \"{\\\"azureml-widgets\\\": \\\"1.40.0\\\", \\\"azureml-training-tabular\\\": \\\"1.40.0\\\", \\\"azureml-train\\\": \\\"1.40.0\\\", \\\"azureml-train-restclients-hyperdrive\\\": \\\"1.40.0\\\", \\\"azureml-train-core\\\": \\\"1.40.0\\\", \\\"azureml-train-automl-runtime\\\": \\\"1.40.0.post1\\\", \\\"azureml-train-automl-client\\\": \\\"1.40.0\\\", \\\"azureml-telemetry\\\": \\\"1.40.0\\\", \\\"azureml-pipeline\\\": \\\"1.40.0\\\", \\\"azureml-pipeline-steps\\\": \\\"1.40.0\\\", \\\"azureml-pipeline-core\\\": \\\"1.40.0\\\", \\\"azureml-mlflow\\\": \\\"1.40.0\\\", \\\"azureml-interpret\\\": \\\"1.40.0\\\", \\\"azureml-inference-server-http\\\": \\\"0.4.13\\\", \\\"azureml-defaults\\\": \\\"1.40.0\\\", \\\"azureml-dataset-runtime\\\": \\\"1.40.0\\\", \\\"azureml-dataprep\\\": \\\"3.0.2\\\", \\\"azureml-dataprep-rslex\\\": \\\"2.4.2\\\", \\\"azureml-dataprep-native\\\": \\\"38.0.0\\\", \\\"azureml-core\\\": \\\"1.40.0\\\", \\\"azureml-automl-runtime\\\": \\\"1.40.0\\\", \\\"azureml-automl-core\\\": \\\"1.40.0\\\"}\", \"_aml_system_scenario_identification\": \"Remote.Parent\", \"ClientType\": \"SDK\", \"environment_cpu_name\": \"AzureML-AutoML\", \"environment_cpu_label\": \"prod\", \"environment_gpu_name\": \"AzureML-AutoML-GPU\", \"environment_gpu_label\": \"prod\", \"root_attribution\": \"automl\", \"attribution\": \"AutoML\", \"Orchestrator\": \"AutoML\", \"CancelUri\": \"https://northcentralus.api.azureml.ms/jasmine/v1.0/subscriptions/efba8785-116c-4443-9a05-764c75c7bb0d/resourceGroups/datascience/providers/Microsoft.MachineLearningServices/workspaces/DataScience/experimentids/035c4945-9be2-4c17-954e-b063ddd656c2/cancel/AutoML_4fdc25b3-3114-42ab-af1f-b3bff868bf4e\", \"azureml.git.repository_uri\": \"https://github.com/IntegerMan/AutoMLwithPythonAndAzure.git\", \"mlflow.source.git.repoURL\": \"https://github.com/IntegerMan/AutoMLwithPythonAndAzure.git\", \"azureml.git.branch\": \"main\", \"mlflow.source.git.branch\": \"main\", \"azureml.git.commit\": \"29e391c5044449fade27bf20508b174c03674d80\", \"mlflow.source.git.commit\": \"29e391c5044449fade27bf20508b174c03674d80\", \"azureml.git.dirty\": \"True\", \"ClientSdkVersion\": \"1.42.0.post1\", \"snapshotId\": \"00000000-0000-0000-0000-000000000000\", \"SetupRunId\": \"AutoML_4fdc25b3-3114-42ab-af1f-b3bff868bf4e_setup\", \"SetupRunContainerId\": \"dcid.AutoML_4fdc25b3-3114-42ab-af1f-b3bff868bf4e_setup\"}, \"tags\": {\"model_explain_run\": \"best_run\", \"_aml_system_automl_run_workspace_id\": \"8817ba3c-299b-43ad-996a-8bb4b581f91c\", \"_aml_system_azureml.automlComponent\": \"AutoML\"}, \"end_time_utc\": null, \"status\": \"Running\", \"log_files\": {}, \"log_groups\": [], \"run_duration\": \"0:00:39\", \"run_number\": \"1655435659\", \"run_queued_details\": {\"status\": \"Running\", \"details\": null}}, \"child_runs\": [{\"run_id\": \"AutoML_4fdc25b3-3114-42ab-af1f-b3bff868bf4e_setup\", \"run_number\": 1655435672, \"metric\": null, \"status\": \"Queued\", \"run_type\": \"azureml.scriptrun\", \"training_percent\": null, \"start_time\": \"\", \"end_time\": \"\", \"created_time\": \"2022-06-17T03:14:32.369798Z\", \"created_time_dt\": \"2022-06-17T03:14:32.369798Z\", \"duration\": \"0:00:26\", \"iteration\": null, \"goal\": null, \"run_name\": \"Queued\", \"run_properties\": null}], \"children_metrics\": {\"categories\": null, \"series\": null, \"metricName\": null}, \"run_metrics\": [], \"run_logs\": \"Your job is submitted in Azure cloud and we are monitoring to get logs...\", \"graph\": {}, \"widget_settings\": {\"childWidgetDisplay\": \"popup\", \"send_telemetry\": false, \"log_level\": \"INFO\", \"sdk_version\": \"1.40.0\"}, \"loading\": false}"
     },
     "metadata": {},
     "output_type": "display_data"
    }
   ],
   "source": [
    "from azureml.core.experiment import Experiment\n",
    "from azureml.widgets import RunDetails\n",
    "\n",
    "# Create a Machine Learning Experiment in Azure Machine Learning Studio\n",
    "experiment_name = 'NHL-Penalty-Minute-Prediction'\n",
    "experiment=Experiment(ws, experiment_name)\n",
    "\n",
    "# Start running the experiment\n",
    "run = experiment.submit(automl_config)\n",
    "\n",
    "# Wait for the experiment to complete (displays active details about the run)\n",
    "RunDetails(run).show()\n",
    "run.wait_for_completion(show_output=False)"
   ]
  },
  {
   "cell_type": "code",
   "execution_count": null,
   "metadata": {},
   "outputs": [],
   "source": [
    "# Grab the resulting model and best run\n",
    "best_auto_run, automl_model = run.get_output()\n",
    "\n",
    "# Display details about the best run\n",
    "print('Best Run: ' + str(best_auto_run.id))\n",
    "RunDetails(best_auto_run).show()"
   ]
  },
  {
   "cell_type": "code",
   "execution_count": null,
   "metadata": {},
   "outputs": [],
   "source": [
    "# Get all child runs of the experiment\n",
    "for model in run.get_children():\n",
    "\n",
    "    # Get all metrics for this model\n",
    "    model_metrics = model.get_metrics()\n",
    "\n",
    "    # Grab the metric we care about for evaluation\n",
    "    metric = 'r2_score'\n",
    "    if metric in model_metrics:\n",
    "        r2 = model_metrics[metric]\n",
    "\n",
    "        # Display the model ID and its metric score\n",
    "        print(str(model.id) + ' had a ' + metric + ' of ' + str(r2))"
   ]
  }
 ],
 "metadata": {
  "interpreter": {
   "hash": "a4868653bb6f8972e87e4c446ab8a445a15b25dedb8594cc74c480f8152ea86a"
  },
  "kernelspec": {
   "display_name": "Python 3.8.8 64-bit",
   "language": "python",
   "name": "python3"
  },
  "language_info": {
   "codemirror_mode": {
    "name": "ipython",
    "version": 3
   },
   "file_extension": ".py",
   "mimetype": "text/x-python",
   "name": "python",
   "nbconvert_exporter": "python",
   "pygments_lexer": "ipython3",
   "version": "3.8.8"
  },
  "orig_nbformat": 4
 },
 "nbformat": 4,
 "nbformat_minor": 2
}
