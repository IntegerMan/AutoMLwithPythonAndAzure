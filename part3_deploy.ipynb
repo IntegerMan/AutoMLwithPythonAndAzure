{
 "cells": [
  {
   "cell_type": "markdown",
   "metadata": {},
   "source": [
    "# Model Deployment\n",
    "Models can be deployed locally, to an Azure Container Instance, or to Azure Kubernetes Service"
   ]
  },
  {
   "cell_type": "markdown",
   "metadata": {},
   "source": [
    "## Load Resources"
   ]
  },
  {
   "cell_type": "code",
   "execution_count": 40,
   "metadata": {},
   "outputs": [
    {
     "data": {
      "text/plain": [
       "'DataScience'"
      ]
     },
     "execution_count": 40,
     "metadata": {},
     "output_type": "execute_result"
    }
   ],
   "source": [
    "# Load the workspace information from config.json using the Azure ML SDK\n",
    "from azureml.core import Workspace\n",
    "\n",
    "ws = Workspace.from_config()\n",
    "ws.name"
   ]
  },
  {
   "cell_type": "code",
   "execution_count": 41,
   "metadata": {},
   "outputs": [
    {
     "name": "stdout",
     "output_type": "stream",
     "text": [
      "Loaded Model NHL-Penalties-AutoML v5\n"
     ]
    }
   ],
   "source": [
    "from azureml.core.model import Model\n",
    "\n",
    "# Grab the latest version of the registered model from Azure\n",
    "model = Model(ws, name='NHL-Penalties-AutoML')\n",
    "print('Loaded Model ' + model.name + ' v' + str(model.version))"
   ]
  },
  {
   "cell_type": "markdown",
   "metadata": {},
   "source": [
    "## Configure Endpoint"
   ]
  },
  {
   "cell_type": "code",
   "execution_count": 42,
   "metadata": {},
   "outputs": [],
   "source": [
    "from azureml.core import Environment\n",
    "from azureml.core.model import InferenceConfig\n",
    "\n",
    "# Load the environment from the YAML file downloaded from the best run\n",
    "env = Environment.from_conda_specification(\"AutoML-env\", \"automl-output/outputs/conda_env_v_1_0_0.yml\")\n",
    "\n",
    "# Create an inference config pointing at the files we downloaded. This configuration tells Azure how to handle requests\n",
    "inference_config = InferenceConfig(environment=env, \n",
    "                                   source_directory='./automl-output/outputs', \n",
    "                                   entry_script='./scoring_file_v_2_0_0.py')\n"
   ]
  },
  {
   "cell_type": "code",
   "execution_count": 47,
   "metadata": {},
   "outputs": [],
   "source": [
    "from azureml.core.webservice import AciWebservice\n",
    "\n",
    "# Set up keys for communicating with the service\n",
    "key1 = 'HelloAutoML'\n",
    "key2 = 'AnotherKey'\n",
    "\n",
    "# The deployment configuration configures how the endpoint is hosted\n",
    "deployment_config = AciWebservice.deploy_configuration(\n",
    "    cpu_cores = 1, \n",
    "    memory_gb = 1, \n",
    "    enable_app_insights=True,\n",
    "    auth_enabled=False) "
   ]
  },
  {
   "cell_type": "markdown",
   "metadata": {},
   "source": [
    "## Deploy Endpoint"
   ]
  },
  {
   "cell_type": "code",
   "execution_count": 48,
   "metadata": {},
   "outputs": [
    {
     "name": "stdout",
     "output_type": "stream",
     "text": [
      "Tips: You can try get_logs(): https://aka.ms/debugimage#dockerlog or local deployment: https://aka.ms/debugimage#debug-locally to debug if deployment takes longer than 10 minutes.\n",
      "Running\n",
      "2022-06-18 22:02:22-04:00 Creating Container Registry if not exists.\n",
      "2022-06-18 22:02:22-04:00 Registering the environment.\n",
      "2022-06-18 22:02:23-04:00 Use the existing image.\n",
      "2022-06-18 22:02:24-04:00 Generating deployment configuration.\n",
      "2022-06-18 22:02:25-04:00 Submitting deployment to compute.\n",
      "2022-06-18 22:02:28-04:00 Checking the status of deployment penalty-predictor..\n",
      "2022-06-18 22:04:19-04:00 Checking the status of inference endpoint penalty-predictor.\n",
      "Succeeded\n",
      "ACI service creation operation finished, operation \"Succeeded\"\n",
      "Endpoint active at http://5e070320-2fcf-4b74-b0c5-00c728febae3.northcentralus.azurecontainer.io/score\n"
     ]
    }
   ],
   "source": [
    "# Deploy the model\n",
    "service = Model.deploy(ws, \"penalty-predictor\", [model], inference_config, deployment_config, overwrite=True)\n",
    "service.wait_for_deployment(show_output = True)\n",
    "\n",
    "# Grab our scoring endpoint for testing\n",
    "print('Endpoint active at ' + service.scoring_uri)"
   ]
  },
  {
   "cell_type": "code",
   "execution_count": 49,
   "metadata": {},
   "outputs": [
    {
     "data": {
      "text/plain": [
       "[25.08131977502827]"
      ]
     },
     "execution_count": 49,
     "metadata": {},
     "output_type": "execute_result"
    }
   ],
   "source": [
    "import requests\n",
    "import json\n",
    "\n",
    "# Test the endpoint by having the Blue Jackets host the Rangers in the regular season\n",
    "data = {\n",
    "  \"Inputs\": {\n",
    "    \"data\": [{\"type\": \"R\", \"homeTeam\": \"Blue Jackets\", \"awayTeam\": \"Rangers\"}]\n",
    "  },\n",
    "  \"GlobalParameters\": 1.0\n",
    "}\n",
    "\n",
    "# Convert to JSON string\n",
    "input_data = json.dumps(data)\n",
    "\n",
    "# Set the content type\n",
    "headers = {'Content-Type': 'application/json'}\n",
    "\n",
    "# Make the request and display the response\n",
    "resp = requests.post(service.scoring_uri, input_data, headers=headers)\n",
    "results = resp.json()['Results']\n",
    "results"
   ]
  }
 ],
 "metadata": {
  "interpreter": {
   "hash": "a4868653bb6f8972e87e4c446ab8a445a15b25dedb8594cc74c480f8152ea86a"
  },
  "kernelspec": {
   "display_name": "Python 3.8.8 64-bit",
   "language": "python",
   "name": "python3"
  },
  "language_info": {
   "codemirror_mode": {
    "name": "ipython",
    "version": 3
   },
   "file_extension": ".py",
   "mimetype": "text/x-python",
   "name": "python",
   "nbconvert_exporter": "python",
   "pygments_lexer": "ipython3",
   "version": "3.8.8"
  },
  "orig_nbformat": 4
 },
 "nbformat": 4,
 "nbformat_minor": 2
}
